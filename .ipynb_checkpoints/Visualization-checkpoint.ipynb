{
 "cells": [
  {
   "cell_type": "code",
   "execution_count": 1,
   "metadata": {},
   "outputs": [],
   "source": [
    "import numpy as np\n",
    "import pyvista as pv \n",
    "import os,re, sys,glob         \n",
    "import matplotlib.pyplot as plt \n",
    "from datetime import datetime, timedelta\n"
   ]
  },
  {
   "cell_type": "code",
   "execution_count": 2,
   "metadata": {},
   "outputs": [],
   "source": [
    "import Aux_files.constants as constants\n",
    "import Aux_files.io_light as io"
   ]
  },
  {
   "cell_type": "code",
   "execution_count": 3,
   "metadata": {},
   "outputs": [
    {
     "name": "stdout",
     "output_type": "stream",
     "text": [
      "C:/Users/u0142106/Desktop/ESA_Visualization/ESA_Visualization\\Event3_2010-04-04T09-53-28.npz\n"
     ]
    }
   ],
   "source": [
    "folder_cme = 'C:/Users/u0142106/Desktop/ESA_Visualization/ESA_Visualization/'\n",
    "files = glob.glob(folder_cme + '*.npz')\n",
    "print(files[0])\n",
    "file_dates = datetime.strptime(files[0][-23:-4],\"%Y-%m-%dT%H-%M-%S\")"
   ]
  },
  {
   "cell_type": "code",
   "execution_count": 4,
   "metadata": {},
   "outputs": [],
   "source": [
    "EUHFORIA = io.load_heliospheric_data(files[0],              {\"r\":1,\n",
    "                                                             \"lon\":1, \n",
    "                                                             \"clt\":1,\n",
    "                                                             \"vr\" : 1e3,\n",
    "                                                             \"vlon\" :1e3,\n",
    "                                                             \"vclt\":1e3,\n",
    "                                                             \"Br\":1e-9,\n",
    "                                                             \"Blon\":1e-9,\n",
    "                                                             \"Bclt\":1e-9,\n",
    "                                                             \"n\":1e6},\n",
    "                                                            corotating=True,\n",
    "                                                            r_unit=constants.au)\n"
   ]
  },
  {
   "cell_type": "code",
   "execution_count": 5,
   "metadata": {},
   "outputs": [],
   "source": [
    "EUHFORIA.convert_to_pv_mesh(['vr','vlon','vclt','Br','Blon','Bclt','n'],delete=True)\n",
    "EUHFORIA.pvgrid['vr'] = EUHFORIA.pvgrid['vr']*1e-3  #--> to convert to km/s"
   ]
  },
  {
   "cell_type": "code",
   "execution_count": 6,
   "metadata": {},
   "outputs": [
    {
     "data": {
      "text/html": [
       "<table style='width: 100%;'><tr><th>Header</th><th>Data Arrays</th></tr><tr><td>\n",
       "<table style='width: 100%;'>\n",
       "<tr><th>StructuredGrid</th><th>Information</th></tr>\n",
       "<tr><td>N Cells</td><td>6171360</td></tr>\n",
       "<tr><td>N Points</td><td>6312570</td></tr>\n",
       "<tr><td>X Bounds</td><td>-2.007e+00, 2.007e+00</td></tr>\n",
       "<tr><td>Y Bounds</td><td>-2.007e+00, 2.007e+00</td></tr>\n",
       "<tr><td>Z Bounds</td><td>-2.001e+00, 2.001e+00</td></tr>\n",
       "<tr><td>Dimensions</td><td>517, 66, 185</td></tr>\n",
       "<tr><td>N Arrays</td><td>7</td></tr>\n",
       "</table>\n",
       "\n",
       "</td><td>\n",
       "<table style='width: 100%;'>\n",
       "<tr><th>Name</th><th>Field</th><th>Type</th><th>N Comp</th><th>Min</th><th>Max</th></tr>\n",
       "<tr><td><b>vr</b></td><td>Cells</td><td>float64</td><td>1</td><td>2.416e+02</td><td>7.559e+02</td></tr>\n",
       "<tr><td>vlon</td><td>Cells</td><td>float64</td><td>1</td><td>-1.115e+05</td><td>9.542e+04</td></tr>\n",
       "<tr><td>vclt</td><td>Cells</td><td>float64</td><td>1</td><td>-1.018e+05</td><td>9.776e+04</td></tr>\n",
       "<tr><td>Br</td><td>Cells</td><td>float64</td><td>1</td><td>-3.437e-07</td><td>3.493e-07</td></tr>\n",
       "<tr><td>Blon</td><td>Cells</td><td>float64</td><td>1</td><td>-7.087e-08</td><td>6.350e-08</td></tr>\n",
       "<tr><td>Bclt</td><td>Cells</td><td>float64</td><td>1</td><td>-5.895e-08</td><td>1.094e-07</td></tr>\n",
       "<tr><td>n</td><td>Cells</td><td>float64</td><td>1</td><td>3.818e+05</td><td>1.855e+09</td></tr>\n",
       "</table>\n",
       "\n",
       "</td></tr> </table>"
      ],
      "text/plain": [
       "StructuredGrid (0x13811e7d580)\n",
       "  N Cells:      6171360\n",
       "  N Points:     6312570\n",
       "  X Bounds:     -2.007e+00, 2.007e+00\n",
       "  Y Bounds:     -2.007e+00, 2.007e+00\n",
       "  Z Bounds:     -2.001e+00, 2.001e+00\n",
       "  Dimensions:   517, 66, 185\n",
       "  N Arrays:     7"
      ]
     },
     "execution_count": 6,
     "metadata": {},
     "output_type": "execute_result"
    }
   ],
   "source": [
    "EUHFORIA.pvgrid"
   ]
  },
  {
   "cell_type": "markdown",
   "metadata": {},
   "source": [
    "# For generating the equatorial and meridional cuts"
   ]
  },
  {
   "cell_type": "code",
   "execution_count": 7,
   "metadata": {},
   "outputs": [
    {
     "name": "stderr",
     "output_type": "stream",
     "text": [
      "Slicing: 100%|██████████[00:00<00:00]\n",
      "Slicing: 100%|██████████[00:00<00:00]\n"
     ]
    }
   ],
   "source": [
    "EUHFORIA_vr_slice_xy= EUHFORIA.pvgrid.slice(normal=[0, 0, 1],progress_bar = True)\n",
    "EUHFORIA_vr_slice_xz= EUHFORIA.pvgrid.slice(normal=[0, 1,0],progress_bar = True)"
   ]
  },
  {
   "cell_type": "code",
   "execution_count": 8,
   "metadata": {},
   "outputs": [],
   "source": [
    "p   = pv.Plotter(off_screen=False,notebook=False)\n",
    "p.clear() \n",
    "p.background_color = \"black\"\n",
    "p.add_mesh(EUHFORIA_vr_slice_xy, scalars = 'vr',cmap = 'turbo',clim =[200,800],scalar_bar_args ={'color':'white'})\n",
    "p.add_mesh(EUHFORIA_vr_slice_xz, scalars = 'vr',cmap = 'turbo',clim =[200,800],scalar_bar_args ={'color':'white'})\n",
    "\n",
    "p.add_mesh(pv.Sphere(radius=0.1, center=[0,0,0]), color='orange')\n",
    "p.add_mesh(pv.Sphere(radius=0.025, center=[1,0,0]), color='green')\n",
    "p.add_point_labels([[1,0.02,0.02]], ['Earth'], italic=False, font_size=20,show_points=False,\n",
    "                        point_size=24,render_points_as_spheres=True,text_color='green',\n",
    "                        shape=None,fill_shape=False, margin=60, always_visible=True)\n",
    "p.add_point_labels([[0,0.1,0.2]], ['Sun'], italic=False, font_size=20,show_points=False,\n",
    "                        point_size=24,render_points_as_spheres=True,text_color='orange',\n",
    "                        shape=None,fill_shape=False, margin=60, always_visible=True)\n",
    "p.show()"
   ]
  },
  {
   "cell_type": "markdown",
   "metadata": {},
   "source": [
    "# For generating and plotting the isosurfaces"
   ]
  },
  {
   "cell_type": "code",
   "execution_count": 9,
   "metadata": {},
   "outputs": [],
   "source": [
    "EUHFORIA_celldata = EUHFORIA.pvgrid.compute_cell_sizes(length=False, volume=False)\n",
    "EUHFORIA_celldata = EUHFORIA.pvgrid.cell_data_to_point_data()"
   ]
  },
  {
   "cell_type": "code",
   "execution_count": 10,
   "metadata": {},
   "outputs": [
    {
     "name": "stderr",
     "output_type": "stream",
     "text": [
      "Computing Contour: 100%|██████████[00:00<00:00]\n",
      "Computing Contour: 100%|██████████[00:00<00:00]\n"
     ]
    }
   ],
   "source": [
    "contours_vr = EUHFORIA_celldata.contour(isosurfaces = 4,         \n",
    "                          scalars='vr',            \n",
    "                          method='contour',        \n",
    "                          rng = [350,600],\n",
    "                          progress_bar = True)\n",
    "contours_CME = EUHFORIA_celldata.contour(isosurfaces = 10,         \n",
    "                          scalars='vr',            \n",
    "                          method='contour',        \n",
    "                          rng = [655,800],\n",
    "                          progress_bar = True)\n",
    "contours_CME_largest  = contours_CME.extract_largest()"
   ]
  },
  {
   "cell_type": "code",
   "execution_count": 11,
   "metadata": {},
   "outputs": [],
   "source": [
    "p   = pv.Plotter(off_screen=False,notebook=False,window_size=(1500,1000))\n",
    "p.clear() \n",
    "p.background_color = \"black\"\n",
    "#p.add_mesh(EUHFORIA_vr_slice_xy, scalars = 'vr',cmap = 'turbo',clim =[200,800],scalar_bar_args ={'color':'white'})\n",
    "#p.add_mesh(EUHFORIA_vr_slice_xz, scalars = 'vr',cmap = 'turbo',clim =[200,800],scalar_bar_args ={'color':'white'})\n",
    "p.add_mesh(contours_CME_largest, scalars = 'vr',cmap = 'hsv',opacity =1,clim =[200,800],\n",
    "           scalar_bar_args ={'color':'white'},show_scalar_bar=False)\n",
    "p.add_mesh(contours_vr, scalars = 'vr',cmap = 'turbo',opacity = 0.3,clim =[200,800],scalar_bar_args ={'color':'white'})\n",
    "\n",
    "p.add_mesh(pv.Sphere(radius=0.1, center=[0,0,0]), color='orange')\n",
    "p.add_mesh(pv.Sphere(radius=0.025, center=[1,0,0]), color='green')\n",
    "p.add_point_labels([[1,0.02,0.02]], ['Earth'], italic=False, font_size=20,show_points=False,\n",
    "                        point_size=24,render_points_as_spheres=True,text_color='green',\n",
    "                        shape=None,fill_shape=False, margin=60, always_visible=True)\n",
    "p.add_point_labels([[0,0.1,0.2]], ['Sun'], italic=False, font_size=20,show_points=False,\n",
    "                        point_size=24,render_points_as_spheres=True,text_color='orange',\n",
    "                        shape=None,fill_shape=False, margin=60, always_visible=True)\n",
    "#p.camera.position    = (5,0, 1) #Front VIEW\n",
    "p.camera.position    = (0,5, 1) #Side VIEW\n",
    "p.camera.focal_point = (0,0, 0.)\n",
    "p.camera.zoom(0.5)\n",
    "p.show_axes()\n",
    "p.show()"
   ]
  },
  {
   "cell_type": "markdown",
   "metadata": {},
   "source": [
    "# For camera rotation"
   ]
  },
  {
   "cell_type": "code",
   "execution_count": 12,
   "metadata": {},
   "outputs": [],
   "source": [
    "a = np.linspace(-np.radians(90),np.radians(90))\n",
    "cam = np.zeros([len(a),3])\n",
    "for i in range(len(a)):\n",
    "    cam[i] = np.array([5*np.cos(a[i]),5*np.sin(a[i]),1])"
   ]
  },
  {
   "cell_type": "code",
   "execution_count": 13,
   "metadata": {},
   "outputs": [],
   "source": [
    "for i in range(len(a)):\n",
    "    p   = pv.Plotter(off_screen=True,notebook=False,window_size=(1500,1000))\n",
    "    p.clear() \n",
    "    p.background_color = \"black\"\n",
    "    #p.add_mesh(EUHFORIA_vr_slice_xy, scalars = 'vr',cmap = 'turbo',clim =[200,800],scalar_bar_args ={'color':'white'})\n",
    "    #p.add_mesh(EUHFORIA_vr_slice_xz, scalars = 'vr',cmap = 'turbo',clim =[200,800],scalar_bar_args ={'color':'white'})\n",
    "    p.add_mesh(contours_CME_largest, scalars = 'vr',cmap = 'hsv',opacity =1,clim =[200,800],\n",
    "               scalar_bar_args ={'color':'white'},show_scalar_bar=False)\n",
    "    p.add_mesh(contours_vr, scalars = 'vr',cmap = 'turbo',opacity = 0.3,clim =[200,800],scalar_bar_args ={'color':'white'})\n",
    "\n",
    "    p.add_mesh(pv.Sphere(radius=0.1, center=[0,0,0]), color='orange')\n",
    "    p.add_mesh(pv.Sphere(radius=0.025, center=[1,0,0]), color='green')\n",
    "    p.add_point_labels([[1,0.02,0.02]], ['Earth'], italic=False, font_size=20,show_points=False,\n",
    "                            point_size=24,render_points_as_spheres=True,text_color='green',\n",
    "                            shape=None,fill_shape=False, margin=60, always_visible=True)\n",
    "    p.add_point_labels([[0,0.1,0.2]], ['Sun'], italic=False, font_size=20,show_points=False,\n",
    "                            point_size=24,render_points_as_spheres=True,text_color='orange',\n",
    "                            shape=None,fill_shape=False, margin=60, always_visible=True)\n",
    "    #p.camera.position    = (5,0, 1) #Front VIEW\n",
    "    #p.camera.position    = (0,5, 1) #Side VIEW\n",
    "    p.camera.position    = (cam[i])\n",
    "    p.camera.focal_point = (0,0, 0.)\n",
    "    p.camera.zoom(0.5)\n",
    "    p.show_axes()\n",
    "    p.screenshot(os.path.join(folder_cme,'visualization_'+str(i)))\n",
    "    p.clear()\n",
    "    p.show()"
   ]
  },
  {
   "cell_type": "markdown",
   "metadata": {},
   "source": [
    "# For getting magnetic field lines and plotting them"
   ]
  },
  {
   "cell_type": "code",
   "execution_count": 15,
   "metadata": {},
   "outputs": [],
   "source": [
    "import Aux_files.transform as transform"
   ]
  },
  {
   "cell_type": "code",
   "execution_count": 16,
   "metadata": {},
   "outputs": [],
   "source": [
    "EUHFORIA = io.load_heliospheric_data(files[0],              {\"r\":1,\n",
    "                                                             \"lon\":1, \n",
    "                                                             \"clt\":1,\n",
    "                                                             \"vr\" : 1e3,\n",
    "                                                             \"vlon\" :1e3,\n",
    "                                                             \"vclt\":1e3,\n",
    "                                                             \"Br\":1e-9,\n",
    "                                                             \"Blon\":1e-9,\n",
    "                                                             \"Bclt\":1e-9,\n",
    "                                                             \"n\":1e6},\n",
    "                                                            corotating=True,\n",
    "                                                            r_unit=constants.au)"
   ]
  },
  {
   "cell_type": "code",
   "execution_count": 17,
   "metadata": {},
   "outputs": [],
   "source": [
    "r,t,p = np.meshgrid(EUHFORIA.grid.center_coords.r,\n",
    "                EUHFORIA.grid.center_coords.clt, \n",
    "                EUHFORIA.grid.center_coords.lon,\n",
    "                indexing=\"ij\" )\n",
    "B = transform.spherical_vector_to_cartesian([EUHFORIA.Br[1:,:,:],-EUHFORIA.Bclt[:,1:,:],EUHFORIA.Blon[:,:,1:]], [r,t,p])"
   ]
  },
  {
   "cell_type": "code",
   "execution_count": 18,
   "metadata": {},
   "outputs": [],
   "source": [
    "EUHFORIA.convert_to_pv_mesh(['vr','vlon','vclt','Br','Blon','Bclt','n','log10(nscaled)'],delete=True)\n",
    "EUHFORIA.pvgrid['vr'] = EUHFORIA.pvgrid['vr']*1e-3  #--> to convert to km/s\n",
    "\n",
    "EUHFORIA.pvgrid.cell_data['B'] = np.column_stack ((EUHFORIA.slice3D(B[0],EUHFORIA.pv_idx_lims).T.ravel(\"C\"),\n",
    "                                                 EUHFORIA.slice3D(B[1],EUHFORIA.pv_idx_lims).T.ravel(\"C\"),\n",
    "                                                 EUHFORIA.slice3D(B[2],EUHFORIA.pv_idx_lims).T.ravel(\"C\")))\n",
    "mesh =EUHFORIA.pvgrid.cell_data_to_point_data()\n",
    "mesh['b'] = mesh['B']*1e-9"
   ]
  },
  {
   "cell_type": "code",
   "execution_count": 62,
   "metadata": {},
   "outputs": [],
   "source": [
    "part_ellipsoid_Sun = pv.ParametricEllipsoid(-0.1, 0.1, 0.1,u_res=20, v_res=10, w_res=10,\n",
    "                                          max_u = np.radians(360),min_u=np.radians(0), \n",
    "                                          max_v = np.radians(160),min_v=np.radians(20))"
   ]
  },
  {
   "cell_type": "code",
   "execution_count": 63,
   "metadata": {},
   "outputs": [
    {
     "name": "stderr",
     "output_type": "stream",
     "text": [
      "Generating Streamlines: 100%|██████████[00:00<00:00]\n"
     ]
    }
   ],
   "source": [
    "field_lines = mesh.streamlines_from_source(part_ellipsoid_Sun,\n",
    "                                                'b',\n",
    "                                                integration_direction='both',\n",
    "                                                surface_streamlines = False,\n",
    "                                                terminal_speed=1e-18,\n",
    "                                                compute_vorticity=False,\n",
    "                                                progress_bar = True)"
   ]
  },
  {
   "cell_type": "code",
   "execution_count": 64,
   "metadata": {},
   "outputs": [],
   "source": [
    "p   = pv.Plotter(off_screen=False,notebook=False,window_size=(1500,1000))\n",
    "p.clear() \n",
    "p.background_color = \"black\"\n",
    "#p.add_mesh(EUHFORIA_vr_slice_xy, scalars = 'vr',cmap = 'turbo',clim =[200,800],scalar_bar_args ={'color':'white'})\n",
    "#p.add_mesh(EUHFORIA_vr_slice_xz, scalars = 'vr',cmap = 'turbo',clim =[200,800],scalar_bar_args ={'color':'white'})\n",
    "p.add_mesh(contours_CME_largest, scalars = 'vr',cmap = 'hsv',opacity =1,clim =[200,800],\n",
    "           scalar_bar_args ={'color':'white'},show_scalar_bar=False)\n",
    "p.add_mesh(contours_vr, scalars = 'vr',cmap = 'turbo',opacity = 0.3,clim =[200,800],scalar_bar_args ={'color':'white'})\n",
    "\n",
    "p.add_mesh(field_lines.tube(radius=0.0025),\n",
    "           cmap = 'Blues',\n",
    "            ambient=0.5,\n",
    "           clim =[0,1e-15],show_scalar_bar=False)\n",
    "\n",
    "p.add_mesh(pv.Sphere(radius=0.1, center=[0,0,0]), color='orange')\n",
    "p.add_mesh(pv.Sphere(radius=0.025, center=[1,0,0]), color='green')\n",
    "p.add_point_labels([[1,0.02,0.02]], ['Earth'], italic=False, font_size=20,show_points=False,\n",
    "                        point_size=24,render_points_as_spheres=True,text_color='green',\n",
    "                        shape=None,fill_shape=False, margin=60, always_visible=True)\n",
    "p.add_point_labels([[0,0.1,0.2]], ['Sun'], italic=False, font_size=20,show_points=False,\n",
    "                        point_size=24,render_points_as_spheres=True,text_color='orange',\n",
    "                        shape=None,fill_shape=False, margin=60, always_visible=True)\n",
    "#p.camera.position    = (5,0, 1) #Front VIEW\n",
    "p.camera.position    = (0,5, 1) #Side VIEW\n",
    "p.camera.focal_point = (0,0, 0.)\n",
    "p.camera.zoom(0.5)\n",
    "p.show_axes()\n",
    "p.show()"
   ]
  },
  {
   "cell_type": "code",
   "execution_count": null,
   "metadata": {},
   "outputs": [],
   "source": []
  }
 ],
 "metadata": {
  "kernelspec": {
   "display_name": "Python 3",
   "language": "python",
   "name": "python3"
  },
  "language_info": {
   "codemirror_mode": {
    "name": "ipython",
    "version": 3
   },
   "file_extension": ".py",
   "mimetype": "text/x-python",
   "name": "python",
   "nbconvert_exporter": "python",
   "pygments_lexer": "ipython3",
   "version": "3.8.5"
  }
 },
 "nbformat": 4,
 "nbformat_minor": 4
}
